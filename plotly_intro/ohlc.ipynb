{
 "cells": [
  {
   "attachments": {},
   "cell_type": "markdown",
   "metadata": {},
   "source": [
    "# OHLC(Open High Low Close)"
   ]
  },
  {
   "cell_type": "code",
   "execution_count": 3,
   "metadata": {},
   "outputs": [],
   "source": [
    "import plotly\n",
    "import plotly.graph_objs as go\n",
    "import pandas as pd\n",
    "import numpy as np\n",
    "from datetime import datetime"
   ]
  },
  {
   "cell_type": "code",
   "execution_count": 9,
   "metadata": {},
   "outputs": [
    {
     "name": "stderr",
     "output_type": "stream",
     "text": [
      "c:\\Users\\lenovo\\AppData\\Local\\Programs\\Python\\Python310\\lib\\site-packages\\plotly\\offline\\offline.py:562: UserWarning:\n",
      "\n",
      "Your filename `Graph` didn't end with .html. Adding .html to the end of your file.\n",
      "\n"
     ]
    },
    {
     "data": {
      "text/plain": [
       "'Graph.html'"
      ]
     },
     "execution_count": 9,
     "metadata": {},
     "output_type": "execute_result"
    }
   ],
   "source": [
    "open_data= [32,32.2,32.5,32.7]\n",
    "high_data = [33,33.4,33.15,33.18]\n",
    "low_data = [31.2,31.3,31.7,31.7]\n",
    "close_data = [33,32.9,33.3,33.1]\n",
    "\n",
    "dates = (datetime(year=2010,month=10,day=10),\n",
    "         datetime(year=2011,month=11,day=10),\n",
    "         datetime(year=2012,month=12,day=10),\n",
    "         datetime(year=2013,month=1,day=10))\n",
    "\n",
    "trace= go.Ohlc(x=dates,\n",
    "             open=open_data,\n",
    "             high=high_data,\n",
    "             low=low_data,\n",
    "             close=close_data)\n",
    "data=[trace]\n",
    "plotly.offline.plot(data,filename=\"Graph\")"
   ]
  }
 ],
 "metadata": {
  "kernelspec": {
   "display_name": "Python 3",
   "language": "python",
   "name": "python3"
  },
  "language_info": {
   "codemirror_mode": {
    "name": "ipython",
    "version": 3
   },
   "file_extension": ".py",
   "mimetype": "text/x-python",
   "name": "python",
   "nbconvert_exporter": "python",
   "pygments_lexer": "ipython3",
   "version": "3.10.8"
  },
  "orig_nbformat": 4,
  "vscode": {
   "interpreter": {
    "hash": "213524bb45a1aeaf737b1d8c77d7b8db5d425938d9dffc5f4bc6fe6dd3324700"
   }
  }
 },
 "nbformat": 4,
 "nbformat_minor": 2
}
